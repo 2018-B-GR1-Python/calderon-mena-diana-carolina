{
 "cells": [
  {
   "cell_type": "code",
   "execution_count": 1,
   "metadata": {},
   "outputs": [],
   "source": [
    "import numpy as np"
   ]
  },
  {
   "cell_type": "code",
   "execution_count": 3,
   "metadata": {},
   "outputs": [],
   "source": [
    "paises_uno = np.array([['ecuador', 'peru'], ['argentina','chile']])\n",
    "paises_dos = np.array([['bolivia', 'mexico'], ['colombia','uruguay']])"
   ]
  },
  {
   "cell_type": "code",
   "execution_count": 4,
   "metadata": {},
   "outputs": [],
   "source": [
    "paises_concatenados = np.concatenate((paises_uno,paises_dos))"
   ]
  },
  {
   "cell_type": "code",
   "execution_count": 5,
   "metadata": {},
   "outputs": [
    {
     "data": {
      "text/plain": [
       "array([['ecuador', 'peru'],\n",
       "       ['argentina', 'chile'],\n",
       "       ['bolivia', 'mexico'],\n",
       "       ['colombia', 'uruguay']], dtype='<U9')"
      ]
     },
     "execution_count": 5,
     "metadata": {},
     "output_type": "execute_result"
    }
   ],
   "source": [
    "paises_concatenados"
   ]
  },
  {
   "cell_type": "code",
   "execution_count": 9,
   "metadata": {},
   "outputs": [
    {
     "name": "stdout",
     "output_type": "stream",
     "text": [
      "[[1 2 3]\n",
      " [4 5 6]]\n"
     ]
    }
   ],
   "source": [
    "# stack\n",
    "\n",
    "a = np.array([1,2,3])\n",
    "b = np.array([4,5,6])\n",
    "c = np.stack((a,b))\n",
    "print(c)"
   ]
  },
  {
   "cell_type": "code",
   "execution_count": 11,
   "metadata": {},
   "outputs": [],
   "source": [
    "arreglo_nombres = ['carlos','jose','andres','marcos']\n",
    "ids = [1,2,3,4]\n",
    "notas = [7.5,8.3,9,3]"
   ]
  },
  {
   "cell_type": "code",
   "execution_count": 14,
   "metadata": {},
   "outputs": [
    {
     "name": "stdout",
     "output_type": "stream",
     "text": [
      "[['carlos' 'jose' 'andres' 'marcos']\n",
      " ['1' '2' '3' '4']\n",
      " ['7.5' '8.3' '9.0' '3.0']]\n",
      "(3, 4)\n",
      "[['carlos' '1' '7.5']\n",
      " ['jose' '2' '8.3']\n",
      " ['andres' '3' '9.0']\n",
      " ['marcos' '4' '3.0']]\n"
     ]
    }
   ],
   "source": [
    "print(np.stack((arreglo_nombres, ids, notas)))\n",
    "print(np.stack((arreglo_nombres, ids, notas)).shape)\n",
    "print(np.stack((arreglo_nombres, ids, notas), axis=1))\n"
   ]
  },
  {
   "cell_type": "code",
   "execution_count": null,
   "metadata": {},
   "outputs": [],
   "source": []
  }
 ],
 "metadata": {
  "kernelspec": {
   "display_name": "Python 3",
   "language": "python",
   "name": "python3"
  },
  "language_info": {
   "codemirror_mode": {
    "name": "ipython",
    "version": 3
   },
   "file_extension": ".py",
   "mimetype": "text/x-python",
   "name": "python",
   "nbconvert_exporter": "python",
   "pygments_lexer": "ipython3",
   "version": "3.7.0"
  }
 },
 "nbformat": 4,
 "nbformat_minor": 2
}
