{
 "cells": [
  {
   "cell_type": "code",
   "execution_count": 1,
   "metadata": {},
   "outputs": [],
   "source": [
    "import numpy as np"
   ]
  },
  {
   "cell_type": "code",
   "execution_count": 24,
   "metadata": {},
   "outputs": [],
   "source": [
    "frutas = np.array(['piña', 'manzana','pera', 'sandia', 'durazno','uvas'])"
   ]
  },
  {
   "cell_type": "code",
   "execution_count": 25,
   "metadata": {},
   "outputs": [
    {
     "data": {
      "text/plain": [
       "array(['piña', 'manzana', 'pera', 'sandia', 'durazno', 'uvas'],\n",
       "      dtype='<U7')"
      ]
     },
     "execution_count": 25,
     "metadata": {},
     "output_type": "execute_result"
    }
   ],
   "source": [
    "frutas"
   ]
  },
  {
   "cell_type": "code",
   "execution_count": 32,
   "metadata": {},
   "outputs": [],
   "source": [
    "cesta_fruta_uno = frutas.view()\n",
    "cesta_fruta_dos = frutas.view()"
   ]
  },
  {
   "cell_type": "code",
   "execution_count": 13,
   "metadata": {},
   "outputs": [
    {
     "name": "stdout",
     "output_type": "stream",
     "text": [
      "2105539438912\n",
      "2105539439152\n",
      "2105539438352\n"
     ]
    }
   ],
   "source": [
    "print(id(frutas))\n",
    "print(id(cesta_fruta_uno))\n",
    "print(id(cesta_fruta_dos))"
   ]
  },
  {
   "cell_type": "code",
   "execution_count": 14,
   "metadata": {},
   "outputs": [
    {
     "name": "stdout",
     "output_type": "stream",
     "text": [
      "False\n",
      "False\n"
     ]
    }
   ],
   "source": [
    "print(cesta_fruta_uno is frutas)\n",
    "print(cesta_fruta_dos is frutas)"
   ]
  },
  {
   "cell_type": "code",
   "execution_count": 15,
   "metadata": {},
   "outputs": [
    {
     "name": "stdout",
     "output_type": "stream",
     "text": [
      "True\n",
      "True\n"
     ]
    }
   ],
   "source": [
    "print(cesta_fruta_uno.base is frutas)\n",
    "print(cesta_fruta_dos.base is frutas)"
   ]
  },
  {
   "cell_type": "code",
   "execution_count": 17,
   "metadata": {},
   "outputs": [],
   "source": [
    "cesta_fruta_uno[0] = 'naranja'"
   ]
  },
  {
   "cell_type": "code",
   "execution_count": 33,
   "metadata": {},
   "outputs": [
    {
     "name": "stdout",
     "output_type": "stream",
     "text": [
      "['piña' 'manzana' 'pera' 'sandia' 'durazno' 'uvas']\n",
      "['piña' 'manzana' 'pera' 'sandia' 'durazno' 'uvas']\n"
     ]
    }
   ],
   "source": [
    "print(cesta_fruta_uno)\n",
    "print(cesta_fruta_dos)"
   ]
  },
  {
   "cell_type": "code",
   "execution_count": 30,
   "metadata": {},
   "outputs": [],
   "source": [
    "cesta_fruta_uno = np.array(['frutilla','coco','papaya','platano'])"
   ]
  },
  {
   "cell_type": "code",
   "execution_count": 34,
   "metadata": {},
   "outputs": [
    {
     "name": "stdout",
     "output_type": "stream",
     "text": [
      "['frutilla' 'coco' 'papaya' 'platano']\n",
      "['piña' 'manzana' 'pera' 'sandia' 'durazno' 'uvas']\n",
      "['piña' 'manzana' 'pera' 'sandia' 'durazno' 'uvas']\n"
     ]
    }
   ],
   "source": [
    "\n",
    "print(arreglo_frutas_uno)\n",
    "print(cesta_fruta_uno)\n",
    "print(frutas)"
   ]
  },
  {
   "cell_type": "code",
   "execution_count": 35,
   "metadata": {},
   "outputs": [],
   "source": [
    "cesta_fruta_dos.shape = 3,2"
   ]
  },
  {
   "cell_type": "code",
   "execution_count": 36,
   "metadata": {},
   "outputs": [
    {
     "name": "stdout",
     "output_type": "stream",
     "text": [
      "[['piña' 'manzana']\n",
      " ['pera' 'sandia']\n",
      " ['durazno' 'uvas']]\n",
      "['piña' 'manzana' 'pera' 'sandia' 'durazno' 'uvas']\n"
     ]
    }
   ],
   "source": [
    "print(cesta_fruta_dos)\n",
    "print(frutas)"
   ]
  },
  {
   "cell_type": "code",
   "execution_count": null,
   "metadata": {},
   "outputs": [],
   "source": []
  }
 ],
 "metadata": {
  "kernelspec": {
   "display_name": "Python 3",
   "language": "python",
   "name": "python3"
  },
  "language_info": {
   "codemirror_mode": {
    "name": "ipython",
    "version": 3
   },
   "file_extension": ".py",
   "mimetype": "text/x-python",
   "name": "python",
   "nbconvert_exporter": "python",
   "pygments_lexer": "ipython3",
   "version": "3.7.0"
  }
 },
 "nbformat": 4,
 "nbformat_minor": 2
}
