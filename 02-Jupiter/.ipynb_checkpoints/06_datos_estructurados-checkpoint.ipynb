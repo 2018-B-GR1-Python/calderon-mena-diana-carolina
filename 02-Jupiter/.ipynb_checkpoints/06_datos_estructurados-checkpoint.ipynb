{
 "cells": [
  {
   "cell_type": "code",
   "execution_count": 2,
   "metadata": {},
   "outputs": [],
   "source": [
    "import numpy as np"
   ]
  },
  {
   "cell_type": "code",
   "execution_count": 7,
   "metadata": {},
   "outputs": [
    {
     "name": "stdout",
     "output_type": "stream",
     "text": [
      "[('nombre', '<U8'), ('edad', '<i4'), ('peso', '<f8')]\n"
     ]
    }
   ],
   "source": [
    "datos = np.zeros(4, dtype={\n",
    "                         'names':('nombre', 'edad', 'peso'),\n",
    "                         'formats':('U8','i4','f8')\n",
    "                        })\n",
    "print(datos.dtype)"
   ]
  },
  {
   "cell_type": "code",
   "execution_count": 8,
   "metadata": {},
   "outputs": [],
   "source": [
    "arreglo_nombres = ['carlos','jose','andres','marcos']\n",
    "ids = [1,2,3,4]\n",
    "notas = [7.5,8.3,9,3]"
   ]
  },
  {
   "cell_type": "code",
   "execution_count": 17,
   "metadata": {},
   "outputs": [],
   "source": [
    "datos_estudiantes = np.zeros(4, dtype={'names':('nombre','identificador','calificacion'),\n",
    "                                      'formats':('U7','u8','f4')})"
   ]
  },
  {
   "cell_type": "code",
   "execution_count": 18,
   "metadata": {},
   "outputs": [
    {
     "name": "stdout",
     "output_type": "stream",
     "text": [
      "[('', 0, 0.) ('', 0, 0.) ('', 0, 0.) ('', 0, 0.)]\n"
     ]
    },
    {
     "data": {
      "text/plain": [
       "array([('', 0, 0.), ('', 0, 0.), ('', 0, 0.), ('', 0, 0.)],\n",
       "      dtype=[('nombre', '<U7'), ('identificador', '<u8'), ('calificacion', '<f4')])"
      ]
     },
     "execution_count": 18,
     "metadata": {},
     "output_type": "execute_result"
    }
   ],
   "source": [
    "print(datos_estudiantes)\n",
    "datos_estudiantes"
   ]
  },
  {
   "cell_type": "code",
   "execution_count": 20,
   "metadata": {},
   "outputs": [],
   "source": [
    "datos_estudiantes['nombre'] = arreglo_nombres\n",
    "datos_estudiantes['identificador']= ids\n",
    "datos_estudiantes['calificacion'] = notas"
   ]
  },
  {
   "cell_type": "code",
   "execution_count": 21,
   "metadata": {},
   "outputs": [
    {
     "name": "stdout",
     "output_type": "stream",
     "text": [
      "[('carlos', 1, 7.) ('jose', 2, 8.) ('andres', 3, 9.) ('marcos', 4, 3.)]\n"
     ]
    }
   ],
   "source": [
    "print(datos_estudiantes)"
   ]
  },
  {
   "cell_type": "code",
   "execution_count": 13,
   "metadata": {},
   "outputs": [
    {
     "data": {
      "text/plain": [
       "array(['carlos', 'jose', 'andres', 'marcos'], dtype='<U7')"
      ]
     },
     "execution_count": 13,
     "metadata": {},
     "output_type": "execute_result"
    }
   ],
   "source": [
    "datos_estudiantes['nombre'] "
   ]
  },
  {
   "cell_type": "code",
   "execution_count": 22,
   "metadata": {},
   "outputs": [
    {
     "data": {
      "text/plain": [
       "array([7., 8., 9., 3.], dtype=float32)"
      ]
     },
     "execution_count": 22,
     "metadata": {},
     "output_type": "execute_result"
    }
   ],
   "source": [
    "datos_estudiantes['calificacion'] "
   ]
  },
  {
   "cell_type": "code",
   "execution_count": 15,
   "metadata": {},
   "outputs": [
    {
     "data": {
      "text/plain": [
       "('carlos', 1, 7.)"
      ]
     },
     "execution_count": 15,
     "metadata": {},
     "output_type": "execute_result"
    }
   ],
   "source": [
    "datos_estudiantes[0] "
   ]
  },
  {
   "cell_type": "code",
   "execution_count": 23,
   "metadata": {},
   "outputs": [],
   "source": [
    "datos_mayores_ocho = datos_estudiantes['calificacion'] > 8.5"
   ]
  },
  {
   "cell_type": "code",
   "execution_count": 24,
   "metadata": {},
   "outputs": [
    {
     "data": {
      "text/plain": [
       "array([False, False,  True, False])"
      ]
     },
     "execution_count": 24,
     "metadata": {},
     "output_type": "execute_result"
    }
   ],
   "source": [
    "datos_mayores_ocho"
   ]
  },
  {
   "cell_type": "code",
   "execution_count": 26,
   "metadata": {},
   "outputs": [
    {
     "data": {
      "text/plain": [
       "array(['andres'], dtype='<U7')"
      ]
     },
     "execution_count": 26,
     "metadata": {},
     "output_type": "execute_result"
    }
   ],
   "source": [
    "datos_estudiantes[datos_mayores_ocho]['nombre'] "
   ]
  },
  {
   "cell_type": "code",
   "execution_count": null,
   "metadata": {},
   "outputs": [],
   "source": []
  }
 ],
 "metadata": {
  "kernelspec": {
   "display_name": "Python 3",
   "language": "python",
   "name": "python3"
  },
  "language_info": {
   "codemirror_mode": {
    "name": "ipython",
    "version": 3
   },
   "file_extension": ".py",
   "mimetype": "text/x-python",
   "name": "python",
   "nbconvert_exporter": "python",
   "pygments_lexer": "ipython3",
   "version": "3.7.0"
  }
 },
 "nbformat": 4,
 "nbformat_minor": 2
}
