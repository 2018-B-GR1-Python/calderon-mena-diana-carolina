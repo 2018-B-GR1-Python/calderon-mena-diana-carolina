{
 "cells": [
  {
   "cell_type": "code",
   "execution_count": 1,
   "metadata": {},
   "outputs": [],
   "source": [
    "import numpy as np"
   ]
  },
  {
   "cell_type": "code",
   "execution_count": 3,
   "metadata": {},
   "outputs": [
    {
     "name": "stdout",
     "output_type": "stream",
     "text": [
      "[1 2 3]\n"
     ]
    }
   ],
   "source": [
    "arreglo_numeros = np.array([1,2,3])\n",
    "print(arreglo_numeros)"
   ]
  },
  {
   "cell_type": "code",
   "execution_count": 4,
   "metadata": {},
   "outputs": [
    {
     "data": {
      "text/plain": [
       "array([[0., 0., 0., 0.],\n",
       "       [0., 0., 0., 0.],\n",
       "       [0., 0., 0., 0.]])"
      ]
     },
     "execution_count": 4,
     "metadata": {},
     "output_type": "execute_result"
    }
   ],
   "source": [
    "np.zeros((3,4))"
   ]
  },
  {
   "cell_type": "code",
   "execution_count": 5,
   "metadata": {},
   "outputs": [
    {
     "data": {
      "text/plain": [
       "array([0.])"
      ]
     },
     "execution_count": 5,
     "metadata": {},
     "output_type": "execute_result"
    }
   ],
   "source": [
    "np.zeros((1))"
   ]
  },
  {
   "cell_type": "code",
   "execution_count": 6,
   "metadata": {},
   "outputs": [
    {
     "data": {
      "text/plain": [
       "array([[[0., 0., 0.],\n",
       "        [0., 0., 0.],\n",
       "        [0., 0., 0.]],\n",
       "\n",
       "       [[0., 0., 0.],\n",
       "        [0., 0., 0.],\n",
       "        [0., 0., 0.]]])"
      ]
     },
     "execution_count": 6,
     "metadata": {},
     "output_type": "execute_result"
    }
   ],
   "source": [
    "np.zeros((2,3,3))"
   ]
  },
  {
   "cell_type": "code",
   "execution_count": 7,
   "metadata": {},
   "outputs": [
    {
     "data": {
      "text/plain": [
       "array([1., 1., 1., 1., 1.])"
      ]
     },
     "execution_count": 7,
     "metadata": {},
     "output_type": "execute_result"
    }
   ],
   "source": [
    "np.ones(5)"
   ]
  },
  {
   "cell_type": "code",
   "execution_count": 8,
   "metadata": {},
   "outputs": [
    {
     "data": {
      "text/plain": [
       "array([[1., 1., 1.],\n",
       "       [1., 1., 1.],\n",
       "       [1., 1., 1.],\n",
       "       [1., 1., 1.],\n",
       "       [1., 1., 1.]])"
      ]
     },
     "execution_count": 8,
     "metadata": {},
     "output_type": "execute_result"
    }
   ],
   "source": [
    "np.ones((5,3))"
   ]
  },
  {
   "cell_type": "code",
   "execution_count": 10,
   "metadata": {},
   "outputs": [
    {
     "data": {
      "text/plain": [
       "array([[0., 0.],\n",
       "       [0., 0.],\n",
       "       [0., 0.]])"
      ]
     },
     "execution_count": 10,
     "metadata": {},
     "output_type": "execute_result"
    }
   ],
   "source": [
    "np.empty((5))\n",
    "np.empty((3,2))"
   ]
  },
  {
   "cell_type": "code",
   "execution_count": 11,
   "metadata": {},
   "outputs": [
    {
     "data": {
      "text/plain": [
       "array([[1., 0., 0., 0.],\n",
       "       [0., 1., 0., 0.],\n",
       "       [0., 0., 1., 0.],\n",
       "       [0., 0., 0., 1.]])"
      ]
     },
     "execution_count": 11,
     "metadata": {},
     "output_type": "execute_result"
    }
   ],
   "source": [
    "np.eye((4))"
   ]
  },
  {
   "cell_type": "code",
   "execution_count": 12,
   "metadata": {},
   "outputs": [
    {
     "data": {
      "text/plain": [
       "array([0, 1, 2])"
      ]
     },
     "execution_count": 12,
     "metadata": {},
     "output_type": "execute_result"
    }
   ],
   "source": [
    "np.arange(3)"
   ]
  },
  {
   "cell_type": "code",
   "execution_count": 13,
   "metadata": {},
   "outputs": [
    {
     "data": {
      "text/plain": [
       "array([ 0,  1,  2,  3,  4,  5,  6,  7,  8,  9, 10, 11])"
      ]
     },
     "execution_count": 13,
     "metadata": {},
     "output_type": "execute_result"
    }
   ],
   "source": [
    "np.arange(12)"
   ]
  },
  {
   "cell_type": "code",
   "execution_count": 14,
   "metadata": {},
   "outputs": [
    {
     "data": {
      "text/plain": [
       "array([ 3,  4,  5,  6,  7,  8,  9, 10, 11, 12, 13, 14, 15, 16, 17, 18, 19,\n",
       "       20, 21, 22, 23, 24, 25, 26, 27, 28, 29, 30, 31, 32, 33, 34, 35, 36,\n",
       "       37, 38, 39, 40, 41, 42, 43, 44, 45, 46, 47, 48, 49])"
      ]
     },
     "execution_count": 14,
     "metadata": {},
     "output_type": "execute_result"
    }
   ],
   "source": [
    "np.arange(3,50)"
   ]
  },
  {
   "cell_type": "code",
   "execution_count": 16,
   "metadata": {},
   "outputs": [
    {
     "name": "stdout",
     "output_type": "stream",
     "text": [
      "[ 0  1  2  3  4  5  6  7  8  9 10 11]\n",
      "[ 4  6  8 10 12 14 16 18]\n"
     ]
    }
   ],
   "source": [
    "print(np.arange(12))\n",
    "print(np.arange(4,20,2))"
   ]
  },
  {
   "cell_type": "code",
   "execution_count": 19,
   "metadata": {},
   "outputs": [
    {
     "name": "stdout",
     "output_type": "stream",
     "text": [
      "(2, 3)\n"
     ]
    }
   ],
   "source": [
    "arreglo_dimension = np.array([(1,2,3), (4,5,6)])\n",
    "print(arreglo_dimension.shape)"
   ]
  },
  {
   "cell_type": "code",
   "execution_count": 21,
   "metadata": {},
   "outputs": [
    {
     "data": {
      "text/plain": [
       "array([[ 0,  1,  2],\n",
       "       [ 3,  4,  5],\n",
       "       [ 6,  7,  8],\n",
       "       [ 9, 10, 11]])"
      ]
     },
     "execution_count": 21,
     "metadata": {},
     "output_type": "execute_result"
    }
   ],
   "source": [
    "np.arange(12).reshape(4,3)"
   ]
  },
  {
   "cell_type": "code",
   "execution_count": 23,
   "metadata": {},
   "outputs": [
    {
     "data": {
      "text/plain": [
       "array([1, 1, 1])"
      ]
     },
     "execution_count": 23,
     "metadata": {},
     "output_type": "execute_result"
    }
   ],
   "source": [
    "np.ones_like(np.arange(6).reshape(3,2))\n",
    "np.ones_like(np.arange(3))"
   ]
  },
  {
   "cell_type": "code",
   "execution_count": 24,
   "metadata": {},
   "outputs": [
    {
     "data": {
      "text/plain": [
       "array([[[ 0,  1],\n",
       "        [ 2,  3],\n",
       "        [ 4,  5]],\n",
       "\n",
       "       [[ 6,  7],\n",
       "        [ 8,  9],\n",
       "        [10, 11]],\n",
       "\n",
       "       [[12, 13],\n",
       "        [14, 15],\n",
       "        [16, 17]],\n",
       "\n",
       "       [[18, 19],\n",
       "        [20, 21],\n",
       "        [22, 23]]])"
      ]
     },
     "execution_count": 24,
     "metadata": {},
     "output_type": "execute_result"
    }
   ],
   "source": [
    "np.arange(24).reshape(4,3,2)"
   ]
  },
  {
   "cell_type": "code",
   "execution_count": 25,
   "metadata": {},
   "outputs": [
    {
     "data": {
      "text/plain": [
       "array([   0,    1,    2, ..., 9997, 9998, 9999])"
      ]
     },
     "execution_count": 25,
     "metadata": {},
     "output_type": "execute_result"
    }
   ],
   "source": [
    "np.arange(10000)"
   ]
  },
  {
   "cell_type": "code",
   "execution_count": 27,
   "metadata": {},
   "outputs": [
    {
     "data": {
      "text/plain": [
       "array([[[   0,    1,    2, ...,    7,    8,    9],\n",
       "        [  10,   11,   12, ...,   17,   18,   19],\n",
       "        [  20,   21,   22, ...,   27,   28,   29],\n",
       "        ...,\n",
       "        [  70,   71,   72, ...,   77,   78,   79],\n",
       "        [  80,   81,   82, ...,   87,   88,   89],\n",
       "        [  90,   91,   92, ...,   97,   98,   99]],\n",
       "\n",
       "       [[ 100,  101,  102, ...,  107,  108,  109],\n",
       "        [ 110,  111,  112, ...,  117,  118,  119],\n",
       "        [ 120,  121,  122, ...,  127,  128,  129],\n",
       "        ...,\n",
       "        [ 170,  171,  172, ...,  177,  178,  179],\n",
       "        [ 180,  181,  182, ...,  187,  188,  189],\n",
       "        [ 190,  191,  192, ...,  197,  198,  199]],\n",
       "\n",
       "       [[ 200,  201,  202, ...,  207,  208,  209],\n",
       "        [ 210,  211,  212, ...,  217,  218,  219],\n",
       "        [ 220,  221,  222, ...,  227,  228,  229],\n",
       "        ...,\n",
       "        [ 270,  271,  272, ...,  277,  278,  279],\n",
       "        [ 280,  281,  282, ...,  287,  288,  289],\n",
       "        [ 290,  291,  292, ...,  297,  298,  299]],\n",
       "\n",
       "       ...,\n",
       "\n",
       "       [[9700, 9701, 9702, ..., 9707, 9708, 9709],\n",
       "        [9710, 9711, 9712, ..., 9717, 9718, 9719],\n",
       "        [9720, 9721, 9722, ..., 9727, 9728, 9729],\n",
       "        ...,\n",
       "        [9770, 9771, 9772, ..., 9777, 9778, 9779],\n",
       "        [9780, 9781, 9782, ..., 9787, 9788, 9789],\n",
       "        [9790, 9791, 9792, ..., 9797, 9798, 9799]],\n",
       "\n",
       "       [[9800, 9801, 9802, ..., 9807, 9808, 9809],\n",
       "        [9810, 9811, 9812, ..., 9817, 9818, 9819],\n",
       "        [9820, 9821, 9822, ..., 9827, 9828, 9829],\n",
       "        ...,\n",
       "        [9870, 9871, 9872, ..., 9877, 9878, 9879],\n",
       "        [9880, 9881, 9882, ..., 9887, 9888, 9889],\n",
       "        [9890, 9891, 9892, ..., 9897, 9898, 9899]],\n",
       "\n",
       "       [[9900, 9901, 9902, ..., 9907, 9908, 9909],\n",
       "        [9910, 9911, 9912, ..., 9917, 9918, 9919],\n",
       "        [9920, 9921, 9922, ..., 9927, 9928, 9929],\n",
       "        ...,\n",
       "        [9970, 9971, 9972, ..., 9977, 9978, 9979],\n",
       "        [9980, 9981, 9982, ..., 9987, 9988, 9989],\n",
       "        [9990, 9991, 9992, ..., 9997, 9998, 9999]]])"
      ]
     },
     "execution_count": 27,
     "metadata": {},
     "output_type": "execute_result"
    }
   ],
   "source": [
    "np.arange(10000).reshape(100,10,10)"
   ]
  },
  {
   "cell_type": "code",
   "execution_count": 28,
   "metadata": {},
   "outputs": [
    {
     "name": "stdout",
     "output_type": "stream",
     "text": [
      "[15 15 15]\n"
     ]
    }
   ],
   "source": [
    "#Sumas\n",
    "a = np.array([10,10,10])\n",
    "b = np.array([5,5,5])\n",
    "\n",
    "print(a+b)"
   ]
  },
  {
   "cell_type": "code",
   "execution_count": 29,
   "metadata": {},
   "outputs": [
    {
     "name": "stdout",
     "output_type": "stream",
     "text": [
      "[5 5 5]\n"
     ]
    }
   ],
   "source": [
    "#Resta\n",
    "print(a-b)"
   ]
  },
  {
   "cell_type": "code",
   "execution_count": 30,
   "metadata": {},
   "outputs": [
    {
     "name": "stdout",
     "output_type": "stream",
     "text": [
      "[50 50 50]\n"
     ]
    }
   ],
   "source": [
    "#Multiplicacion\n",
    "print(a*b)"
   ]
  },
  {
   "cell_type": "code",
   "execution_count": 31,
   "metadata": {},
   "outputs": [
    {
     "name": "stdout",
     "output_type": "stream",
     "text": [
      "[2. 2. 2.]\n"
     ]
    }
   ],
   "source": [
    "#Division\n",
    "print(a/b)"
   ]
  },
  {
   "cell_type": "code",
   "execution_count": 36,
   "metadata": {},
   "outputs": [
    {
     "name": "stdout",
     "output_type": "stream",
     "text": [
      "[0.  0.5 1.  1.5 2.  2.5 3.  3.5 4.  4.5 5.  5.5 6.  6.5 7.  7.5 8.  8.5]\n",
      "[0 1 0 1 0 1 0 1 0 1 0 1 0 1 0 1 0 1]\n"
     ]
    }
   ],
   "source": [
    "\n",
    "#Operaciones\n",
    "arreglo_diez_ocho = np.arange(18)\n",
    "print(arreglo_diez_ocho / 2)\n",
    "print(arreglo_diez_ocho % 2)"
   ]
  },
  {
   "cell_type": "code",
   "execution_count": 37,
   "metadata": {},
   "outputs": [
    {
     "name": "stdout",
     "output_type": "stream",
     "text": [
      "[False False False False False False False False False False  True  True\n",
      "  True  True  True  True  True  True]\n"
     ]
    }
   ],
   "source": [
    "#Expresiones\n",
    "print(arreglo_diez_ocho > 9)"
   ]
  },
  {
   "cell_type": "code",
   "execution_count": 47,
   "metadata": {},
   "outputs": [
    {
     "name": "stdout",
     "output_type": "stream",
     "text": [
      "[[0 1]\n",
      " [2 3]]\n",
      "[[4 5]\n",
      " [6 7]]\n",
      "[[False False]\n",
      " [False False]]\n"
     ]
    }
   ],
   "source": [
    "#Multiplicacion de varias dimensiones\n",
    "A = np.arange(4).reshape(2,2) #np.array([[0,1],[2,3]])\n",
    "print(A)\n",
    "B = np.arange(4,8).reshape(2,2) #np.array([[4,5],[6,7]])\n",
    "print(B)\n",
    "\n",
    "print(A > B)"
   ]
  },
  {
   "cell_type": "code",
   "execution_count": 40,
   "metadata": {},
   "outputs": [
    {
     "data": {
      "text/plain": [
       "array([[0, 1],\n",
       "       [2, 3]])"
      ]
     },
     "execution_count": 40,
     "metadata": {},
     "output_type": "execute_result"
    }
   ],
   "source": [
    "np.arange(4).reshape(2,2)"
   ]
  },
  {
   "cell_type": "code",
   "execution_count": 44,
   "metadata": {},
   "outputs": [
    {
     "data": {
      "text/plain": [
       "array([[4, 5],\n",
       "       [6, 7]])"
      ]
     },
     "execution_count": 44,
     "metadata": {},
     "output_type": "execute_result"
    }
   ],
   "source": [
    "np.arange(4,8).reshape(2,2)"
   ]
  },
  {
   "cell_type": "code",
   "execution_count": 49,
   "metadata": {},
   "outputs": [
    {
     "data": {
      "text/plain": [
       "array([[ 6,  7],\n",
       "       [26, 31]])"
      ]
     },
     "execution_count": 49,
     "metadata": {},
     "output_type": "execute_result"
    }
   ],
   "source": [
    "#Multiplicacion dot\n",
    "A.dot(B)\n",
    "np.dot(A,B)"
   ]
  },
  {
   "cell_type": "code",
   "execution_count": 50,
   "metadata": {},
   "outputs": [
    {
     "name": "stdout",
     "output_type": "stream",
     "text": [
      "[0 3 6]\n"
     ]
    }
   ],
   "source": [
    "arreglo_tres = np.arange(3)\n",
    "arreglo_tres *= 3\n",
    "print(arreglo_tres)"
   ]
  },
  {
   "cell_type": "code",
   "execution_count": 54,
   "metadata": {},
   "outputs": [
    {
     "name": "stdout",
     "output_type": "stream",
     "text": [
      "[0 1 2 3 4 5 6 7 8 9]\n",
      "45\n",
      "0\n",
      "9\n"
     ]
    }
   ],
   "source": [
    "#Operaciones conocidas en los arreglos\n",
    "\n",
    "arreglo_diez = np.arange(10)\n",
    "\n",
    "print(arreglo_diez)\n",
    "print(arreglo_diez.sum())\n",
    "print(arreglo_diez.min())\n",
    "print(arreglo_diez.max())\n",
    "\n"
   ]
  },
  {
   "cell_type": "code",
   "execution_count": 57,
   "metadata": {},
   "outputs": [
    {
     "name": "stdout",
     "output_type": "stream",
     "text": [
      "[[ 0  1  2  3]\n",
      " [ 4  5  6  7]\n",
      " [ 8  9 10 11]]\n",
      "[12 15 18 21]\n",
      "[ 6 22 38]\n"
     ]
    }
   ],
   "source": [
    "arreglo_tres_cuatro = np.arange(12).reshape(3,4)\n",
    "print(arreglo_tres_cuatro)\n",
    "print(arreglo_tres_cuatro.sum(axis=0)) #sumando en x\n",
    "print(arreglo_tres_cuatro.sum(axis=1)) #sumando en y\n"
   ]
  },
  {
   "cell_type": "code",
   "execution_count": 59,
   "metadata": {},
   "outputs": [
    {
     "name": "stdout",
     "output_type": "stream",
     "text": [
      "[ 0 30 45 60 90]\n",
      "[0.         0.52359878 0.78539816 1.04719755 1.57079633]\n"
     ]
    }
   ],
   "source": [
    "# Universal functions\n",
    "# Radianes\n",
    "angulos_cero_noventa = np.array([0,30,45,60,90])\n",
    "print(angulos_cero_noventa)\n",
    "angulos_cero_noventa_radianes = angulos_cero_noventa * np.pi/180\n",
    "print(angulos_cero_noventa_radianes)"
   ]
  },
  {
   "cell_type": "code",
   "execution_count": 60,
   "metadata": {},
   "outputs": [
    {
     "name": "stdout",
     "output_type": "stream",
     "text": [
      "[ 0.         -0.98803162  0.85090352 -0.30481062  0.89399666]\n"
     ]
    }
   ],
   "source": [
    "#Funcion seno\n",
    "print(np.sin(angulos_cero_noventa))"
   ]
  },
  {
   "cell_type": "code",
   "execution_count": 61,
   "metadata": {},
   "outputs": [
    {
     "name": "stdout",
     "output_type": "stream",
     "text": [
      "[ 1.          0.15425145  0.52532199 -0.95241298 -0.44807362]\n"
     ]
    }
   ],
   "source": [
    "print(np.cos(angulos_cero_noventa))"
   ]
  },
  {
   "cell_type": "code",
   "execution_count": 62,
   "metadata": {},
   "outputs": [
    {
     "name": "stdout",
     "output_type": "stream",
     "text": [
      "[ 0.         -6.4053312   1.61977519  0.32004039 -1.99520041]\n"
     ]
    }
   ],
   "source": [
    "print(np.tan(angulos_cero_noventa))"
   ]
  },
  {
   "cell_type": "code",
   "execution_count": 69,
   "metadata": {},
   "outputs": [
    {
     "name": "stdout",
     "output_type": "stream",
     "text": [
      "[4.30612645 6.65271041 7.88799945 8.53121484 8.77302107 6.17220597\n",
      " 4.61637582 8.65467831 4.94095783 1.78715804 5.9073669  6.61835134\n",
      " 4.73056865 9.73060277 2.55497532 8.44263045 3.22069188 8.9374504\n",
      " 0.22561872 8.41331839 0.43661875 9.7387624  8.67441827 2.15167383\n",
      " 4.18352468 6.53665957 1.34352335 4.22855974 6.23151957 9.17615974]\n",
      "5.793514763448874\n",
      "6.201862769760254\n"
     ]
    }
   ],
   "source": [
    "arreglo_diez = np.random.rand(30)*10\n",
    "print(arreglo_diez)\n",
    "print(np.mean(arreglo_diez)) #media\n",
    "print(np.median(arreglo_diez)) #mediana"
   ]
  },
  {
   "cell_type": "code",
   "execution_count": 71,
   "metadata": {},
   "outputs": [
    {
     "name": "stdout",
     "output_type": "stream",
     "text": [
      "2.841684979599299\n"
     ]
    }
   ],
   "source": [
    "#desviacion estandas\n",
    "print(np.std(arreglo_diez))"
   ]
  },
  {
   "cell_type": "code",
   "execution_count": 72,
   "metadata": {},
   "outputs": [
    {
     "name": "stdout",
     "output_type": "stream",
     "text": [
      "8.075173523280267\n"
     ]
    }
   ],
   "source": [
    "#varianza\n",
    "print(np.var(arreglo_diez))"
   ]
  },
  {
   "cell_type": "code",
   "execution_count": 75,
   "metadata": {},
   "outputs": [
    {
     "name": "stdout",
     "output_type": "stream",
     "text": [
      "[[ 1.  3.  4.  5.  4.  3.  2.  2. 31. 33. 12.  1.  3.  4. 99.]\n",
      " [ 1.  3.  4.  5.  4.  3.  2.  2. 31. 33. 12.  1.  3.  4. 99.]]\n",
      "(2, 15)\n"
     ]
    }
   ],
   "source": [
    "#salarios\n",
    "salarios = np.genfromtxt('data/salarios.csv', delimiter=\",\")\n",
    "print(salarios)\n",
    "print(salarios.shape)"
   ]
  },
  {
   "cell_type": "code",
   "execution_count": 91,
   "metadata": {},
   "outputs": [
    {
     "name": "stdout",
     "output_type": "stream",
     "text": [
      "[  0   1   4   9  16  25  36  49  64  81 100]\n",
      "0\n",
      "[0 1 4]\n",
      "64\n",
      "[ 4  9 16 25 36 49]\n",
      "[ 9 16 25 36 49 64 81]\n",
      "[  1   4   9  16  25  36  49  64  81 100]\n",
      "[ 0  1  4  9 16]\n",
      "[ 4  9 16 25 36 49]\n",
      "[ 4 36]\n",
      "[ 4 36]\n",
      "[ 0  4 16 36 64]\n",
      "[100  81  64  49  36  25  16   9   4   1   0]\n"
     ]
    }
   ],
   "source": [
    "# Slice and Dice\n",
    "arreglo_once_cuadrado = np.arange(11)**2\n",
    "print(arreglo_once_cuadrado)\n",
    "print(arreglo_once_cuadrado[0])\n",
    "print(arreglo_once_cuadrado[0:3])\n",
    "print(arreglo_once_cuadrado[-3])\n",
    "print(arreglo_once_cuadrado[2:-3])\n",
    "print(arreglo_once_cuadrado[-8:-1])\n",
    "print(arreglo_once_cuadrado[1:])\n",
    "print(arreglo_once_cuadrado[:5])\n",
    "print(arreglo_once_cuadrado[2:8])\n",
    "print(arreglo_once_cuadrado[2:8:4])\n",
    "print(arreglo_once_cuadrado[2:8:4])\n",
    "print(arreglo_once_cuadrado[:10:2])\n",
    "print(arreglo_once_cuadrado[::-1])\n"
   ]
  },
  {
   "cell_type": "code",
   "execution_count": null,
   "metadata": {},
   "outputs": [],
   "source": []
  }
 ],
 "metadata": {
  "kernelspec": {
   "display_name": "Python 3",
   "language": "python",
   "name": "python3"
  },
  "language_info": {
   "codemirror_mode": {
    "name": "ipython",
    "version": 3
   },
   "file_extension": ".py",
   "mimetype": "text/x-python",
   "name": "python",
   "nbconvert_exporter": "python",
   "pygments_lexer": "ipython3",
   "version": "3.7.0"
  }
 },
 "nbformat": 4,
 "nbformat_minor": 2
}
